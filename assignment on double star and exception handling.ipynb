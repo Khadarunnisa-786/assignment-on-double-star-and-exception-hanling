{
 "cells": [
  {
   "cell_type": "markdown",
   "id": "efb2b5b5-7574-41ae-8c73-0c03573cb69d",
   "metadata": {},
   "source": [
    "Write a function print_info(**kwargs) that prints all the key-value pairs passed to it.\n"
   ]
  },
  {
   "cell_type": "code",
   "execution_count": 1,
   "id": "f820d200-093a-42dd-babb-e5cbc3c97c88",
   "metadata": {},
   "outputs": [],
   "source": [
    "def print_info(**kwargs):\n",
    "    for key, value in kwargs.items():\n",
    "        print(f\"{key}: {value}\")\n"
   ]
  },
  {
   "cell_type": "code",
   "execution_count": 2,
   "id": "e4b5f783-dec8-43af-9808-7bef23ffb202",
   "metadata": {},
   "outputs": [
    {
     "name": "stdout",
     "output_type": "stream",
     "text": [
      "name: khadar\n",
      "age: 20\n",
      "city: Nellore\n"
     ]
    }
   ],
   "source": [
    "print_info(name=\"khadar\", age=20, city=\"Nellore\")\n"
   ]
  },
  {
   "cell_type": "markdown",
   "id": "2e1353a4-c505-4f8e-8c2a-393196fab1f5",
   "metadata": {},
   "source": [
    "Create a function greet_people(**kwargs) where each key is a person's name and the value is their greeting. Print out a greeting for each person.\n"
   ]
  },
  {
   "cell_type": "code",
   "execution_count": 3,
   "id": "d3fd40c9-9832-464e-9561-e2127550d440",
   "metadata": {},
   "outputs": [],
   "source": [
    "def greet_people(**kwargs):\n",
    "    for name, greeting in kwargs.items():\n",
    "        print(f\"{name} says: {greeting}\")\n"
   ]
  },
  {
   "cell_type": "code",
   "execution_count": 4,
   "id": "ffe04981-4e70-4329-a0bd-f8b68133d2cd",
   "metadata": {},
   "outputs": [
    {
     "name": "stdout",
     "output_type": "stream",
     "text": [
      "khadar says: Hello!\n",
      "keziya says: Good morning!\n",
      "padma says: Hey there!\n"
     ]
    }
   ],
   "source": [
    "greet_people(khadar=\"Hello!\", keziya=\"Good morning!\", padma=\"Hey there!\")\n"
   ]
  },
  {
   "cell_type": "markdown",
   "id": "0fb5cc69-e914-486d-aff3-ce31fdd6688b",
   "metadata": {},
   "source": [
    "Write a function person_details(name, age, **kwargs) that prints name and age, and then any additional information passed in.\n"
   ]
  },
  {
   "cell_type": "code",
   "execution_count": 6,
   "id": "98c2718c-c54c-47e5-85b8-95cacecb75ba",
   "metadata": {},
   "outputs": [],
   "source": [
    "def person_details(name, age, **kwargs):\n",
    "    print(f\"Name: {name}\")\n",
    "    print(f\"Age: {age}\")\n",
    "    for key, value in kwargs.items():\n",
    "        print(f\"{key.capitalize()}: {value}\")\n"
   ]
  },
  {
   "cell_type": "code",
   "execution_count": 7,
   "id": "78b482ad-1472-4a94-90be-5b842b3172d3",
   "metadata": {},
   "outputs": [
    {
     "name": "stdout",
     "output_type": "stream",
     "text": [
      "Name: khadar\n",
      "Age: 20\n",
      "City: Nellore\n",
      "Occupation: student\n",
      "Hobby: Painting\n"
     ]
    }
   ],
   "source": [
    "person_details(\"khadar\", 20, city=\"Nellore\", occupation=\"student\", hobby=\"Painting\")\n"
   ]
  },
  {
   "cell_type": "markdown",
   "id": "ddc233b8-af8c-489d-a3dd-4d33477b9a3f",
   "metadata": {},
   "source": [
    "Define a function build_profile(**kwargs) that builds and returns a dictionary of user profile information.\n"
   ]
  },
  {
   "cell_type": "code",
   "execution_count": 1,
   "id": "8c165260-ebd5-4f25-aae2-8464625553c3",
   "metadata": {},
   "outputs": [],
   "source": [
    "def build_profile(**kwargs):\n",
    "    profile = {}\n",
    "    for key, value in kwargs.items():\n",
    "        profile[key] = value\n",
    "    return profile\n"
   ]
  },
  {
   "cell_type": "code",
   "execution_count": 3,
   "id": "810cc3eb-0e34-4517-83eb-f23ded575320",
   "metadata": {},
   "outputs": [
    {
     "name": "stdout",
     "output_type": "stream",
     "text": [
      "{'name': 'khadar', 'age': 20, 'city': 'Nellore', 'occupation': 'student'}\n"
     ]
    }
   ],
   "source": [
    "user_profile = build_profile(name=\"khadar\", age=20, city=\"Nellore\", occupation=\"student\")\n",
    "print(user_profile)"
   ]
  },
  {
   "cell_type": "markdown",
   "id": "81acba01-79e4-4357-a0d9-5e6b5f29f1b4",
   "metadata": {},
   "source": [
    "Write a function combine_dicts(**kwargs) that takes multiple keyword arguments and returns them as a single dictionary.\n"
   ]
  },
  {
   "cell_type": "code",
   "execution_count": 4,
   "id": "3354deae-4e9d-45b6-ba9d-5a93e871c264",
   "metadata": {},
   "outputs": [],
   "source": [
    "def combine_dicts(**kwargs):\n",
    "    return dict(kwargs)\n"
   ]
  },
  {
   "cell_type": "code",
   "execution_count": 7,
   "id": "12e010fd-fa49-43c3-9b44-750dffab8978",
   "metadata": {},
   "outputs": [
    {
     "name": "stdout",
     "output_type": "stream",
     "text": [
      "{'a': 1, 'b': 2, 'c': 3}\n"
     ]
    }
   ],
   "source": [
    "result = combine_dicts(a=1, b=2, c=3)\n",
    "print(result)"
   ]
  },
  {
   "cell_type": "markdown",
   "id": "9ba29001-ff02-400f-87ad-81113ba51a57",
   "metadata": {},
   "source": [
    "Create a function sum_named_numbers(**kwargs) that sums all the values passed as keyword arguments (assume all values are numbers).\n"
   ]
  },
  {
   "cell_type": "code",
   "execution_count": 10,
   "id": "b6ad3c75-e64d-4098-8ecd-27e54e66b200",
   "metadata": {},
   "outputs": [],
   "source": [
    "def sum_named_numbers(**kwargs):\n",
    "    total = 0\n",
    "    for value in kwargs.values():\n",
    "        total += value\n",
    "    return total\n"
   ]
  },
  {
   "cell_type": "code",
   "execution_count": 11,
   "id": "1f9c4453-2d36-422c-a767-51dd8564fea8",
   "metadata": {},
   "outputs": [
    {
     "name": "stdout",
     "output_type": "stream",
     "text": [
      "18.5\n"
     ]
    }
   ],
   "source": [
    "result = sum_named_numbers(a=10, b=5, c=3.5)\n",
    "print(result)\n"
   ]
  },
  {
   "cell_type": "markdown",
   "id": "667ca0d2-047b-4897-8cac-fbfef94276fe",
   "metadata": {},
   "source": [
    "Define a function filter_keywords(**kwargs) that only returns keyword arguments where the value is a string.\n"
   ]
  },
  {
   "cell_type": "code",
   "execution_count": 12,
   "id": "8462d1f9-5c82-42fb-a35b-37199d4de8f3",
   "metadata": {},
   "outputs": [],
   "source": [
    "def filter_keywords(**kwargs):\n",
    "    return {key: value for key, value in kwargs.items() if isinstance(value, str)}\n"
   ]
  },
  {
   "cell_type": "code",
   "execution_count": 15,
   "id": "e6dbb60d-7479-4a0b-bad6-f4a07062ccaf",
   "metadata": {},
   "outputs": [
    {
     "name": "stdout",
     "output_type": "stream",
     "text": [
      "{'name': 'khadar', 'city': 'nellore'}\n"
     ]
    }
   ],
   "source": [
    "result = filter_keywords(name=\"khadar\", age=20, city=\"nellore\")\n",
    "print(result)\n"
   ]
  },
  {
   "cell_type": "markdown",
   "id": "dcea8664-57e3-4ce4-8184-bb070be9da10",
   "metadata": {},
   "source": [
    "Write a decorator function debug_info(func) that prints **kwargs passed to any wrapped function.\n"
   ]
  },
  {
   "cell_type": "code",
   "execution_count": 16,
   "id": "d76b7246-9e0a-4263-a4bc-b7fab05b48eb",
   "metadata": {},
   "outputs": [],
   "source": [
    "def debug_info(func):\n",
    "    def wrapper(*args, **kwargs):\n",
    "        print(f\"Debug - kwargs passed to {func.__name__}: {kwargs}\")\n",
    "        return func(*args, **kwargs)\n",
    "    return wrapper\n"
   ]
  },
  {
   "cell_type": "code",
   "execution_count": 18,
   "id": "1229d2c3-14e5-451b-adaf-8e202817a404",
   "metadata": {},
   "outputs": [
    {
     "name": "stdout",
     "output_type": "stream",
     "text": [
      "Debug - kwargs passed to greet_person: {'mood': 'happy', 'time': 'morning'}\n",
      "Hello, khadarunnisa!\n"
     ]
    }
   ],
   "source": [
    "@debug_info\n",
    "def greet_person(name, **kwargs):\n",
    "    print(f\"Hello, {name}!\")\n",
    "\n",
    "greet_person(\"khadarunnisa\", mood=\"happy\", time=\"morning\")\n"
   ]
  },
  {
   "cell_type": "markdown",
   "id": "d76046a6-d82a-47b2-bb53-4e3be19431cb",
   "metadata": {},
   "source": [
    "Write a function print_styled_text(text, **styles) that applies style options like bold=True, italic=True, etc., and prints how the text should be styled.\n"
   ]
  },
  {
   "cell_type": "code",
   "execution_count": 19,
   "id": "2914695b-b3ba-4ce3-ac5d-1e4fc7919d14",
   "metadata": {},
   "outputs": [],
   "source": [
    "def print_styled_text(text, **styles):\n",
    "    applied_styles = [style for style, enabled in styles.items() if enabled]\n",
    "    \n",
    "    if applied_styles:\n",
    "        style_description = \", \".join(applied_styles)\n",
    "        print(f\"Styled Text: '{text}' (Styles applied: {style_description})\")\n",
    "    else:\n",
    "        print(f\"Plain Text: '{text}' (No styles applied)\")\n"
   ]
  },
  {
   "cell_type": "code",
   "execution_count": 20,
   "id": "2759e607-68ec-4ee3-9881-64ddc7b179c0",
   "metadata": {},
   "outputs": [
    {
     "name": "stdout",
     "output_type": "stream",
     "text": [
      "Styled Text: 'Hello, world!' (Styles applied: bold, italic)\n"
     ]
    }
   ],
   "source": [
    "print_styled_text(\"Hello, world!\", bold=True, italic=True, underline=False)\n"
   ]
  },
  {
   "cell_type": "markdown",
   "id": "9c2bc19b-aa93-42ac-ac66-e65a98491f39",
   "metadata": {},
   "source": [
    "Write a function custom_message(**kwargs) where it checks for specific keys like name, time, and location and builds a formatted message if those keys exist.\n"
   ]
  },
  {
   "cell_type": "code",
   "execution_count": 21,
   "id": "8c1d1f0b-a8f6-4f74-8ab1-52639357d220",
   "metadata": {},
   "outputs": [],
   "source": [
    "def custom_message(**kwargs):\n",
    "    parts = []\n",
    "\n",
    "    name = kwargs.get('name')\n",
    "    time = kwargs.get('time')\n",
    "    location = kwargs.get('location')\n",
    "\n",
    "    if name:\n",
    "        parts.append(f\"Hello, {name}!\")\n",
    "    if time:\n",
    "        parts.append(f\"The event is at {time}.\")\n",
    "    if location:\n",
    "        parts.append(f\"It will take place in {location}.\")\n",
    "\n",
    "    if parts:\n",
    "        message = \" \".join(parts)\n",
    "    else:\n",
    "        message = \"No specific details provided.\"\n",
    "\n",
    "    print(message)\n"
   ]
  },
  {
   "cell_type": "code",
   "execution_count": 26,
   "id": "df1bd811-8aca-4926-a556-027c578abd6a",
   "metadata": {},
   "outputs": [
    {
     "name": "stdout",
     "output_type": "stream",
     "text": [
      "Hello, khadar! The event is at 2 PM. It will take place in Central Park.\n"
     ]
    }
   ],
   "source": [
    "custom_message(name=\"khadar\", time=\"2 PM\", location=\"Central Park\")\n"
   ]
  },
  {
   "cell_type": "markdown",
   "id": "524c8352-3e3d-45b1-851e-596307020611",
   "metadata": {},
   "source": [
    "Write a program that takes user input for two numbers and divides them. Use try-except to catch divide-by-zero errors.\n"
   ]
  },
  {
   "cell_type": "code",
   "execution_count": 28,
   "id": "bcfa847b-3634-46f2-bce7-2467fd4d143f",
   "metadata": {},
   "outputs": [
    {
     "name": "stdin",
     "output_type": "stream",
     "text": [
      "pls enter 1st value 7\n",
      "pls enter 2nd value 0\n"
     ]
    },
    {
     "name": "stdout",
     "output_type": "stream",
     "text": [
      "b should not b zero\n"
     ]
    }
   ],
   "source": [
    "a = int(input('pls enter 1st value'))\n",
    "b= int(input('pls enter 2nd value'))\n",
    "try:\n",
    "   c = a/b\n",
    "   print(c)\n",
    "except ZeroDivisionError:\n",
    "     print('b should not b zero')"
   ]
  },
  {
   "cell_type": "markdown",
   "id": "17b94e86-a7ff-4b1d-b563-d183fab3e1ec",
   "metadata": {},
   "source": [
    "Create a function that reads an integer from user input. Use try-except to handle invalid (non-integer) input.\n"
   ]
  },
  {
   "cell_type": "code",
   "execution_count": 29,
   "id": "b5eda054-9ca3-4f77-8581-fcff14889ec4",
   "metadata": {},
   "outputs": [
    {
     "name": "stdin",
     "output_type": "stream",
     "text": [
      "enter num1: 8\n",
      "enter num2: k\n"
     ]
    },
    {
     "name": "stdout",
     "output_type": "stream",
     "text": [
      "enter int value only\n",
      "enter non zero in int\n"
     ]
    }
   ],
   "source": [
    "try :\n",
    "    a = int(input('enter num1:'))\n",
    "    b = int(input('enter num2:'))\n",
    "except Exception :\n",
    "    print('enter int value only')\n",
    "\n",
    "try :\n",
    "    c+a/b\n",
    "    print(c)\n",
    "except ZeroDivisionError:\n",
    "    print('enter non zero in int')\n",
    "          \n",
    "                  "
   ]
  },
  {
   "cell_type": "markdown",
   "id": "33d9bf74-6d72-418e-8f72-72a492a84ff0",
   "metadata": {},
   "source": [
    "Write a function that opens a file by name. Use exception handling to catch the case where the file doesn’t exist.\n"
   ]
  },
  {
   "cell_type": "code",
   "execution_count": 1,
   "id": "5c8e78c2-4421-4fbd-a593-851a660a9f51",
   "metadata": {},
   "outputs": [],
   "source": [
    "def open_file():\n",
    "    try:\n",
    "        with open('aimnxt.txt', 'r') as file:\n",
    "            content = file.read()\n",
    "            print(content)\n",
    "    except FileNotFoundError:\n",
    "        print(f\"Error: The file '{'aimnxt.txt'}' does not exist.\")\n"
   ]
  },
  {
   "cell_type": "code",
   "execution_count": 3,
   "id": "c8bd17f6-b2c8-4747-87b5-181ec06d601b",
   "metadata": {},
   "outputs": [
    {
     "name": "stdout",
     "output_type": "stream",
     "text": [
      "Error: The file 'aimnxt.txt' does not exist.\n"
     ]
    }
   ],
   "source": [
    "open_file()\n"
   ]
  },
  {
   "cell_type": "markdown",
   "id": "d781e908-7b17-4885-840a-4c231d989703",
   "metadata": {},
   "source": [
    "Write a calculator function that takes two numbers and an operation (+, -, *, /) and handles any potential exceptions (e.g., division by zero, invalid operation).\n"
   ]
  },
  {
   "cell_type": "code",
   "execution_count": 4,
   "id": "36e3758a-3a97-408e-98aa-7145c7a05d98",
   "metadata": {},
   "outputs": [],
   "source": [
    "def calculator(num1, num2, operation):\n",
    "    try:\n",
    "        if operation == '+':\n",
    "            return num1 + num2\n",
    "        elif operation == '-':\n",
    "            return num1 - num2\n",
    "        elif operation == '*':\n",
    "            return num1 * num2\n",
    "        elif operation == '/':\n",
    "            return num1 / num2\n",
    "        else:\n",
    "            raise ValueError(f\"Invalid operation '{operation}'. Use one of +, -, *, /.\")\n",
    "    except ZeroDivisionError:\n",
    "        return \"Error: Division by zero is not allowed.\"\n",
    "    except Exception as e:\n",
    "        return f\"Error: {e}\"\n"
   ]
  },
  {
   "cell_type": "code",
   "execution_count": 5,
   "id": "7e782b9a-a0c5-4da3-9a1d-8d41bc8a1618",
   "metadata": {},
   "outputs": [
    {
     "name": "stdout",
     "output_type": "stream",
     "text": [
      "15\n",
      "Error: Division by zero is not allowed.\n",
      "Error: Invalid operation '^'. Use one of +, -, *, /.\n"
     ]
    }
   ],
   "source": [
    "print(calculator(10, 5, '+'))  \n",
    "print(calculator(10, 0, '/'))  \n",
    "print(calculator(10, 5, '^'))  "
   ]
  },
  {
   "cell_type": "markdown",
   "id": "af3b8af9-7f59-4700-8bf3-de414acce570",
   "metadata": {},
   "source": [
    "Make a function get_list_item(lst, index) that returns the element at the given index. Catch exceptions if the index is out of range.\n"
   ]
  },
  {
   "cell_type": "code",
   "execution_count": 6,
   "id": "a666562b-92f9-41bf-9f67-1083d82a658f",
   "metadata": {},
   "outputs": [],
   "source": [
    "def get_list_item(lst, index):\n",
    "    try:\n",
    "        return lst[index]\n",
    "    except IndexError:\n",
    "        return f\"Error: Index {index} is out of range for the list.\"\n"
   ]
  },
  {
   "cell_type": "code",
   "execution_count": 7,
   "id": "0040014e-2fb7-4020-bf74-7eda8dfe1510",
   "metadata": {},
   "outputs": [
    {
     "name": "stdout",
     "output_type": "stream",
     "text": [
      "20\n",
      "Error: Index 5 is out of range for the list.\n"
     ]
    }
   ],
   "source": [
    "my_list = [10, 20, 30]\n",
    "print(get_list_item(my_list, 1)) \n",
    "print(get_list_item(my_list, 5))  "
   ]
  },
  {
   "cell_type": "code",
   "execution_count": 8,
   "id": "36a7493f-99c9-420d-ab24-980ace7e5a7b",
   "metadata": {},
   "outputs": [],
   "source": [
    "def greet(name):\n",
    "    print(f\"Hello, {name}!\")\n"
   ]
  },
  {
   "cell_type": "code",
   "execution_count": 9,
   "id": "1bd6beb3-0810-4bfd-b3b1-fb1ee2606745",
   "metadata": {},
   "outputs": [
    {
     "name": "stdout",
     "output_type": "stream",
     "text": [
      "Hello, khadarunnisa!\n"
     ]
    }
   ],
   "source": [
    "greet('khadarunnisa')"
   ]
  },
  {
   "cell_type": "markdown",
   "id": "cef8508f-9620-4f26-b7e6-496beeff5125",
   "metadata": {},
   "source": [
    "Create a function add_numbers that takes two numbers as arguments and returns their sum.\n"
   ]
  },
  {
   "cell_type": "code",
   "execution_count": 10,
   "id": "0b7dd655-3d0e-49cc-abe7-fae4b74554e4",
   "metadata": {},
   "outputs": [],
   "source": [
    "def add_numbers(num1, num2):\n",
    "    return num1 + num2\n"
   ]
  },
  {
   "cell_type": "code",
   "execution_count": 11,
   "id": "f818236f-2bba-492d-9922-8a9069094d30",
   "metadata": {},
   "outputs": [
    {
     "data": {
      "text/plain": [
       "9"
      ]
     },
     "execution_count": 11,
     "metadata": {},
     "output_type": "execute_result"
    }
   ],
   "source": [
    "add_numbers(4,5)"
   ]
  },
  {
   "cell_type": "markdown",
   "id": "33373909-4e44-4534-a471-c45ec51077fa",
   "metadata": {},
   "source": [
    "Write a function is_even that returns True if a number is even, and False otherwise.\n"
   ]
  },
  {
   "cell_type": "code",
   "execution_count": 12,
   "id": "93989881-7ee0-49d6-a702-39dce0d4bc31",
   "metadata": {},
   "outputs": [],
   "source": [
    "def is_even(number):\n",
    "    return number % 2 == 0\n"
   ]
  },
  {
   "cell_type": "code",
   "execution_count": 13,
   "id": "36bda678-4162-4149-aedc-3d96869c4302",
   "metadata": {},
   "outputs": [
    {
     "data": {
      "text/plain": [
       "True"
      ]
     },
     "execution_count": 13,
     "metadata": {},
     "output_type": "execute_result"
    }
   ],
   "source": [
    "is_even(8)"
   ]
  },
  {
   "cell_type": "markdown",
   "id": "70cdc06a-7344-4234-ae25-7b8025057d68",
   "metadata": {},
   "source": [
    "Define a function factorial that returns the factorial of a given number.\n"
   ]
  },
  {
   "cell_type": "code",
   "execution_count": 14,
   "id": "d7ba4a34-0ed5-429e-bebe-dd2a11375c7e",
   "metadata": {},
   "outputs": [],
   "source": [
    "def factorial(n):\n",
    "    if n < 0:\n",
    "        raise ValueError(\"Factorial is not defined for negative numbers.\")\n",
    "    result = 1\n",
    "    for i in range(2, n + 1):\n",
    "        result *= i\n",
    "    return result"
   ]
  },
  {
   "cell_type": "code",
   "execution_count": 15,
   "id": "46f7673d-70e0-4d69-9bfb-eae1340dc01f",
   "metadata": {},
   "outputs": [
    {
     "data": {
      "text/plain": [
       "5040"
      ]
     },
     "execution_count": 15,
     "metadata": {},
     "output_type": "execute_result"
    }
   ],
   "source": [
    "factorial(7)"
   ]
  },
  {
   "cell_type": "markdown",
   "id": "d965b014-ce80-45c3-9287-5f3829f4b347",
   "metadata": {},
   "source": [
    "Create a function reverse_string that takes a string and returns it reversed.\n"
   ]
  },
  {
   "cell_type": "code",
   "execution_count": 16,
   "id": "90193c6b-e878-4567-ac36-a67ebb3e3d27",
   "metadata": {},
   "outputs": [],
   "source": [
    "def reverse_string(s):\n",
    "    return s[::-1]"
   ]
  },
  {
   "cell_type": "code",
   "execution_count": 17,
   "id": "63788f11-0966-48a3-aad9-3234a0061697",
   "metadata": {},
   "outputs": [
    {
     "data": {
      "text/plain": [
       "'txnmia'"
      ]
     },
     "execution_count": 17,
     "metadata": {},
     "output_type": "execute_result"
    }
   ],
   "source": [
    "reverse_string('aimnxt')"
   ]
  },
  {
   "cell_type": "markdown",
   "id": "a029eafb-a543-4c34-9bd5-367d91518b66",
   "metadata": {},
   "source": [
    "Write a function max_of_three that returns the largest of three numbers.\n"
   ]
  },
  {
   "cell_type": "code",
   "execution_count": 20,
   "id": "8dda3c84-f9c0-45b4-9514-ea8c40bee08b",
   "metadata": {},
   "outputs": [],
   "source": [
    "def max_of_three(a,b,c):\n",
    "    return max(a,b,c)"
   ]
  },
  {
   "cell_type": "code",
   "execution_count": 21,
   "id": "41bc293a-5baa-4a8a-8c99-4ac27c01a1fa",
   "metadata": {},
   "outputs": [
    {
     "data": {
      "text/plain": [
       "8"
      ]
     },
     "execution_count": 21,
     "metadata": {},
     "output_type": "execute_result"
    }
   ],
   "source": [
    "max_of_three(2,3,8)"
   ]
  },
  {
   "cell_type": "markdown",
   "id": "5e3abcfb-7c4c-4343-9578-36007e4f5dd5",
   "metadata": {},
   "source": [
    "Define a function count_vowels that returns the number of vowels in a string.\n"
   ]
  },
  {
   "cell_type": "code",
   "execution_count": 22,
   "id": "26e51eff-90a0-4cab-8611-5e25de14225b",
   "metadata": {},
   "outputs": [],
   "source": [
    "def count_vowels(s):\n",
    "    vowels = \"aeiouAEIOU\"\n",
    "    return sum(1 for char in s if char in vowels)\n"
   ]
  },
  {
   "cell_type": "code",
   "execution_count": 23,
   "id": "713e3a1a-90c1-4246-a276-1b0ada740c3d",
   "metadata": {},
   "outputs": [
    {
     "data": {
      "text/plain": [
       "5"
      ]
     },
     "execution_count": 23,
     "metadata": {},
     "output_type": "execute_result"
    }
   ],
   "source": [
    "count_vowels('khadarunnisa')"
   ]
  },
  {
   "cell_type": "markdown",
   "id": "bb433b4a-5f9b-4549-8794-c5709b86a7b5",
   "metadata": {},
   "source": [
    "Write a function fibonacci(n) that returns the nth Fibonacci number.\n"
   ]
  },
  {
   "cell_type": "code",
   "execution_count": 26,
   "id": "56dbaa17-bf51-4497-b9e1-c7a7a345639d",
   "metadata": {},
   "outputs": [],
   "source": [
    "def fibonacci(n):\n",
    "    a, b = 0, 1\n",
    "    for i in range(n):\n",
    "        print(a, end=\" \")\n",
    "        a, b = b, a + b\n"
   ]
  },
  {
   "cell_type": "code",
   "execution_count": 27,
   "id": "aaf99263-f103-4c74-8c64-f780f716a692",
   "metadata": {},
   "outputs": [
    {
     "name": "stdout",
     "output_type": "stream",
     "text": [
      "0 1 1 2 3 5 8 "
     ]
    }
   ],
   "source": [
    "fibonacci(7)"
   ]
  },
  {
   "cell_type": "code",
   "execution_count": null,
   "id": "ed2fb4ae-2b17-4eb7-b92a-625bf0055d1c",
   "metadata": {},
   "outputs": [],
   "source": []
  }
 ],
 "metadata": {
  "kernelspec": {
   "display_name": "Python 3 (ipykernel)",
   "language": "python",
   "name": "python3"
  },
  "language_info": {
   "codemirror_mode": {
    "name": "ipython",
    "version": 3
   },
   "file_extension": ".py",
   "mimetype": "text/x-python",
   "name": "python",
   "nbconvert_exporter": "python",
   "pygments_lexer": "ipython3",
   "version": "3.13.5"
  }
 },
 "nbformat": 4,
 "nbformat_minor": 5
}
